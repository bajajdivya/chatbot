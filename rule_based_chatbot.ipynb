{
  "nbformat": 4,
  "nbformat_minor": 0,
  "metadata": {
    "colab": {
      "provenance": [],
      "authorship_tag": "ABX9TyOvuXy3rBQRnBP9Osdx3hK/",
      "include_colab_link": true
    },
    "kernelspec": {
      "name": "python3",
      "display_name": "Python 3"
    },
    "language_info": {
      "name": "python"
    }
  },
  "cells": [
    {
      "cell_type": "markdown",
      "metadata": {
        "id": "view-in-github",
        "colab_type": "text"
      },
      "source": [
        "<a href=\"https://colab.research.google.com/github/bajajdivya/chatbot/blob/main/rule_based_chatbot.ipynb\" target=\"_parent\"><img src=\"https://colab.research.google.com/assets/colab-badge.svg\" alt=\"Open In Colab\"/></a>"
      ]
    },
    {
      "cell_type": "code",
      "execution_count": null,
      "metadata": {
        "id": "A91DM0JQjzut"
      },
      "outputs": [],
      "source": [
        "import re\n",
        "import random"
      ]
    },
    {
      "cell_type": "code",
      "source": [
        "class RuleBot:\n",
        "  # negative responses\n",
        "  negative_responses = (\"no\" , \"nope\", \"nah\", \"naw\", \"not a chance\",\"sorry\")\n",
        "  # exit_commands\n",
        "  exit_commands = (\"quit\",\"pause\",\"exit\",\"goodbye\",\"bye\",\"later\")\n",
        "  # starter questions \n",
        "  random_questions = (\n",
        "      \"Why are you here? \",\n",
        "      \"Are there many humans like you? \" ,\n",
        "      \"What do you consume for sustenance? \",\n",
        "      \"Is there intelligent life on this planet \",\n",
        "      \"Does Earth have a leader? \",\n",
        "      \"What planets have you visited? \"\n",
        "      \"What technology do you have on this planet? \"\n",
        "  )\n",
        "\n",
        "  def __init__(self):\n",
        "    self.alienable = {'describe_planet_intent': r'.*\\s*your planet.*',\n",
        "                      'answer_why_intent': r'why\\sare.*',\n",
        "                      'about_creator': r'.*\\s*creator',\n",
        "                      'about_session': r'.*\\s*session'\n",
        "                      }\n",
        "\n",
        "  def greet(self):\n",
        "    self.name = input(\"what is your name?\\n\")\n",
        "    will_help = input(\n",
        "        f\"Hi {self.name}, I am Rule-Bot. Will you help me learn about your planet?\\n\")\n",
        "    if will_help in self.negative_responses:\n",
        "      print(\"Ok, have a nice Earth day!\")\n",
        "      return  \n",
        "    self.chat()\n",
        "\n",
        "  def make_exit(self, reply):\n",
        "    for command in self.exit_commands :\n",
        "      if reply == command:\n",
        "        print(\"Okay, have a nice Earth day!\")\n",
        "        return True\n",
        "\n",
        "  def chat(self):\n",
        "    reply = input(random.choice(self.random_questions)).lower()\n",
        "    while not self.make_exit(reply):\n",
        "      reply = input(self.match_reply(reply))\n",
        "\n",
        "  def match_reply(self, reply):\n",
        "    for key, value in self.alienable.items():\n",
        "      intent = key\n",
        "      regex_pattern = value\n",
        "      found_match = re.match(regex_pattern, reply)\n",
        "      if found_match and intent == 'describe_planet_intent':\n",
        "        return self.describe_planet_intent()\n",
        "      elif found_match and intent == 'answer_why_intent':\n",
        "        return self.answer_why_intent()\n",
        "      elif found_match and intent == 'about_creator':\n",
        "        return self.about_creator()\n",
        "      elif found_match and intent == 'about_session':\n",
        "        return self.about_session()\n",
        "    if not found_match:\n",
        "      return self.no_match_intent() \n",
        "\n",
        "  def answer_why_intent(self):\n",
        "    responses = (\" I come in peace\\n\", \"I am here to collect data on your planet and its inhabitants\\n\",\n",
        "                 \"I heard the coffee is good\\n\")\n",
        "    return random.choice(responses)\n",
        "\n",
        "  def describe_planet_intent(self):\n",
        "    responses = (\" My planet is a utopia of diverse organisms and species. \\n\",\n",
        "                 \"I am from Opidipus, the capital of the Wayward Galaxies. \\n\")\n",
        "    return random.choice(responses)\n",
        "  \n",
        "  def about_creator(self):\n",
        "    responses = (\"My creator is Divya Bajaj a super smart person \\n \", \n",
        "                 \"His name is Divya Bajaj\\n\",)\n",
        "    return random.choice(responses)\n",
        "\n",
        "  def about_session(self):\n",
        "    responses = (\"Session is on 25th December \\n \", \n",
        "                 \"Session will be killing \\n\",)\n",
        "    return random.choice(responses)\n",
        "  \n",
        "  def no_match_intent(self):\n",
        "    responses = (\n",
        "        \"Please tell me more. \\n\", \"Tell me more!\\n\", \"Why do you say that?\\n\",\n",
        "        \"I see. Can you elaborate ? \\n\",\"Interesting. Can you tell me more?\\n\",\n",
        "        \"I see. How do you think? \\n\", \"How do you think I feel when you say that? \\n\"\n",
        "    )\n",
        "    return random.choice(responses)\n",
        "\n",
        "AlienBot = RuleBot()\n",
        "AlienBot.greet()"
      ],
      "metadata": {
        "colab": {
          "base_uri": "https://localhost:8080/"
        },
        "id": "fmR60GW4j4cq",
        "outputId": "d94f25d6-7741-45d0-a38d-6881401080a8"
      },
      "execution_count": null,
      "outputs": [
        {
          "output_type": "stream",
          "name": "stdout",
          "text": [
            "what is your name?\n",
            "kk\n",
            "Hi kk, I am Rule-Bot. Will you help me learn about your planet?\n",
            "yes\n",
            "Why are you here? session\n",
            "Session is on 25th December \n",
            " quit\n",
            "Okay, have a nice Earth day!\n"
          ]
        }
      ]
    },
    {
      "cell_type": "code",
      "source": [],
      "metadata": {
        "id": "A0XxmJbMoIhc"
      },
      "execution_count": null,
      "outputs": []
    },
    {
      "cell_type": "code",
      "source": [],
      "metadata": {
        "id": "WUR3ULX4rA4b"
      },
      "execution_count": null,
      "outputs": []
    }
  ]
}